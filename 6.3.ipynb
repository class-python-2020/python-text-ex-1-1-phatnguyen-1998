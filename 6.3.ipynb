{
 "metadata": {
  "language_info": {
   "codemirror_mode": {
    "name": "ipython",
    "version": 3
   },
   "file_extension": ".py",
   "mimetype": "text/x-python",
   "name": "python",
   "nbconvert_exporter": "python",
   "pygments_lexer": "ipython3",
   "version": 3
  },
  "orig_nbformat": 2,
  "kernelspec": {
   "name": "python_defaultSpec_1598001513227",
   "display_name": "Python 3.8.2 32-bit"
  }
 },
 "nbformat": 4,
 "nbformat_minor": 2,
 "cells": [
  {
   "cell_type": "code",
   "execution_count": 2,
   "metadata": {
    "tags": []
   },
   "outputs": [
    {
     "output_type": "stream",
     "name": "stdout",
     "text": "top:ねた,base:しゃり,category:にぎり\n"
    }
   ],
   "source": [
    "class nigiri:\n",
    "    category = 'にぎり'\n",
    "    top ='ねた'\n",
    "    base = 'しゃり'\n",
    "    def show_attributes(self):\n",
    "        print('top:{},base:{},category:{}'.format(self.top,self.base,self.category))\n",
    "n1 = nigiri()\n",
    "n1.show_attributes()"
   ]
  },
  {
   "cell_type": "code",
   "execution_count": 3,
   "metadata": {
    "tags": []
   },
   "outputs": [
    {
     "output_type": "stream",
     "name": "stdout",
     "text": "top:ねた,base:しゃり,category:にぎり\n"
    }
   ],
   "source": [
    "class Maguro(nigiri):\n",
    "    pass\n",
    "m1 = Maguro()\n",
    "m1.show_attributes()"
   ]
  },
  {
   "cell_type": "code",
   "execution_count": 5,
   "metadata": {
    "tags": []
   },
   "outputs": [
    {
     "output_type": "stream",
     "name": "stdout",
     "text": "top:まぐろ,base:しゃり,category:にぎり\n"
    }
   ],
   "source": [
    "class Maguro(nigiri):\n",
    "    top= 'まぐろ'\n",
    "m3 = Maguro()\n",
    "m3.show_attributes()"
   ]
  },
  {
   "cell_type": "code",
   "execution_count": 6,
   "metadata": {
    "tags": []
   },
   "outputs": [
    {
     "output_type": "stream",
     "name": "stdout",
     "text": "top:まぐろ,base:しゃり,category:にぎり\n"
    }
   ],
   "source": [
    "class Maguro(nigiri):\n",
    "    top = 'まぐろ'\n",
    "    price = 100\n",
    "m4 = Maguro()\n",
    "m4.show_attributes()"
   ]
  },
  {
   "cell_type": "code",
   "execution_count": 8,
   "metadata": {
    "tags": []
   },
   "outputs": [
    {
     "output_type": "stream",
     "name": "stdout",
     "text": "top:まぐろ,base:しゃり,category:にぎり\n"
    }
   ],
   "source": [
    "class Maguro(nigiri):\n",
    "    top = 'まぐろ'\n",
    "    price = 100\n",
    "def show_attributes(self):\n",
    "    print('top:{},base:{},'.format(self.base,self.top))\n",
    "    print('price:{}円'.format(self.price))\n",
    "m4= Maguro()\n",
    "m4.show_attributes()\n"
   ]
  },
  {
   "cell_type": "code",
   "execution_count": 9,
   "metadata": {
    "tags": []
   },
   "outputs": [
    {
     "output_type": "stream",
     "name": "stdout",
     "text": "top:まぐろ,base:しゃり,category:にぎり\n"
    }
   ],
   "source": [
    "class Maguro(nigiri):\n",
    "    top = 'まぐろ'\n",
    "    price = 100\n",
    "def show_attributes(self):\n",
    "    super().show_attributes()\n",
    "    print('price:{}円'.format(self.price))\n",
    "m5 = Maguro()\n",
    "m5.show_attributes()"
   ]
  },
  {
   "cell_type": "code",
   "execution_count": null,
   "metadata": {},
   "outputs": [],
   "source": [
    "class Maguro(nigiri):\n",
    "    top = 'まぐろ'\n",
    "    price = 100\n",
    "def show_attributes(self):\n",
    "    super().show_attributes()\n",
    "def show_one_dish_price(self,num_nigiri=2):\n",
    "    result = self.price*num_nigiri\n",
    "    print('1皿({}かん)の値段: {}円'.format(num_nigiri,result))\n",
    "m5 =Maguro\n",
    "m5.show_attributes()\n",
    "m5.show_one_dish_price()"
   ]
  },
  {
   "cell_type": "code",
   "execution_count": 11,
   "metadata": {
    "tags": []
   },
   "outputs": [
    {
     "output_type": "stream",
     "name": "stdout",
     "text": "top:まぐろ,base:しゃり,category:にぎり\nwasabi:わさび入り\nprice:100円\n"
    }
   ],
   "source": [
    "class nigirinew(nigiri):\n",
    "    def __init__(self,wasabi='わさび抜き'):\n",
    "        self.wasabi = wasabi\n",
    "    def show_attributes(self):\n",
    "        super().show_attributes()\n",
    "        print('wasabi:{}'.format(self.wasabi))\n",
    "class Maguro(nigirinew):\n",
    "    top = 'まぐろ'\n",
    "    price = 100\n",
    "    def show_attributes(self):\n",
    "        super().show_attributes()\n",
    "        print('price:{}円'. format(self.price))\n",
    "m6 = Maguro('わさび入り')\n",
    "m6.show_attributes()"
   ]
  },
  {
   "cell_type": "code",
   "execution_count": 13,
   "metadata": {
    "tags": []
   },
   "outputs": [
    {
     "output_type": "stream",
     "name": "stdout",
     "text": "musician リズム。メロディー。ハーモニー\nコードを書く\n楽器を演奏する\n"
    }
   ],
   "source": [
    "class programmer:\n",
    "    def __init__(self):\n",
    "        self.skill = 'プログラミング'\n",
    "        print('programmer', self.skill)\n",
    "    def make_code(self):\n",
    "        print('コードを書く')\n",
    "class Musician:\n",
    "    def __init__(self):\n",
    "        self.skill = 'リズム。メロディー。ハーモニー'\n",
    "        print('musician', self.skill)\n",
    "    def play_instrument(self):\n",
    "        print('楽器を演奏する')\n",
    "class musicianprogrammer(Musician,programmer):\n",
    "    pass\n",
    "mp1 = musicianprogrammer()\n",
    "mp1.make_code()\n",
    "mp1.play_instrument()"
   ]
  },
  {
   "cell_type": "code",
   "execution_count": 14,
   "metadata": {
    "tags": []
   },
   "outputs": [
    {
     "output_type": "stream",
     "name": "stdout",
     "text": "programmer プログラミング\nコードを書く\n楽器を演奏する\n"
    }
   ],
   "source": [
    "class ProgrammerMusician(programmer,Musician):\n",
    "    pass\n",
    "pm1 = ProgrammerMusician()\n",
    "pm1.make_code()\n",
    "pm1.play_instrument()"
   ]
  },
  {
   "cell_type": "code",
   "execution_count": 16,
   "metadata": {
    "tags": []
   },
   "outputs": [
    {
     "output_type": "stream",
     "name": "stdout",
     "text": "top:かつお,base:しゃり,category:にぎり\ntopping:ねぎ\n"
    }
   ],
   "source": [
    "class katsuo(nigiri):\n",
    "    top = 'かつお'\n",
    "    topping = 'ねぎ'\n",
    "    price = 100\n",
    "    def show_attributes(self):\n",
    "        super().show_attributes()\n",
    "        print('topping:{}'.format(self.topping))\n",
    "k1 = katsuo()\n",
    "k1.show_attributes()"
   ]
  },
  {
   "cell_type": "code",
   "execution_count": null,
   "metadata": {},
   "outputs": [],
   "source": [
    "class rectangle:\n",
    "    '''長方形'''\n",
    "    angle = 90\n",
    "    def __init__(self,width, height):\n",
    "        self.name = 'retangle'\n",
    "        self.width = width\n",
    "        self.height = height\n",
    "        self.perimeter = self.calc_perimeter()\n",
    "        self.area = self.calc_area()\n",
    "    def calc_perimeter(self):\n",
    "        w = self.width\n",
    "        h = self.height\n",
    "        return (w + h) *2\n",
    "    def calc_area(self):\n",
    "        w = self.width\n",
    "        h = self.height\n",
    "        return w * h\n",
    "    def show_attributes(self):\n",
    "        ang = self.angle\n",
    "        n = self.name\n",
    "        w = self.width\n",
    "        h = self.height\n",
    "        p = self.perimeter\n",
    "        a = self.area\n",
    "        print('name:{},width:{},height:{},angle:{}'.format(n,w,h,ang))\n",
    "        print('perimeter:{},area:{}'.format(p,a))\n",
    "    #インスタンスを作って実行\n",
    "    r1 = rectangle(4,3)\n",
    "    r1.show_attributes()"
   ]
  },
  {
   "cell_type": "code",
   "execution_count": null,
   "metadata": {},
   "outputs": [],
   "source": [
    "class Square(rectangle):\n",
    "    '''正方形'''\n",
    "    def __init__(self,width):\n",
    "        super().__init__(width,width)\n",
    "        self.name = 'square'\n",
    "#インスタンスを作って実行\n",
    "s1 = square(4)\n",
    "s1.show_attributes()"
   ]
  },
  {
   "cell_type": "code",
   "execution_count": null,
   "metadata": {},
   "outputs": [],
   "source": [
    "class Square(rectangle):\n",
    "    '''正方形'''\n",
    "    def __init__(self,width):\n",
    "        self.name='square'\n",
    "        self.width = width\n",
    "        self.height = width\n",
    "        self.perimeter = self.calc_perimeter()\n",
    "        self.area = self.calc_area()\n",
    "#インスタンスを作って実行\n",
    "s2 = Square(4)\n",
    "s2.show_attributes()"
   ]
  }
 ]
}