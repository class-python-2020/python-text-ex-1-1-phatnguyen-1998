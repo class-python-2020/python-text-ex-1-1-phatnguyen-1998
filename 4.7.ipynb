{
 "metadata": {
  "language_info": {
   "codemirror_mode": {
    "name": "ipython",
    "version": 3
   },
   "file_extension": ".py",
   "mimetype": "text/x-python",
   "name": "python",
   "nbconvert_exporter": "python",
   "pygments_lexer": "ipython3",
   "version": 3
  },
  "orig_nbformat": 2,
  "kernelspec": {
   "name": "python_defaultSpec_1597831422727",
   "display_name": "Python 3.8.2 32-bit"
  }
 },
 "nbformat": 4,
 "nbformat_minor": 2,
 "cells": [
  {
   "cell_type": "code",
   "execution_count": 5,
   "metadata": {
    "tags": []
   },
   "outputs": [
    {
     "output_type": "stream",
     "name": "stdout",
     "text": "outer function (a,b)= (4,7)\ninner fuunction (c,d) = (4,7)\n28\n"
    }
   ],
   "source": [
    "def outer(a,b):\n",
    "    print('outer function (a,b)= ({},{})'. format(a,b))\n",
    "    def inner(c,d):\n",
    "        print('inner fuunction (c,d) = ({},{})'.format(c,d))\n",
    "        return c*d\n",
    "    return inner(a,b)\n",
    "a= outer(4,7)\n",
    "print(a)"
   ]
  },
  {
   "cell_type": "code",
   "execution_count": 8,
   "metadata": {},
   "outputs": [
    {
     "output_type": "execute_result",
     "data": {
      "text/plain": "\"we are the knights who say: 'Ni!'\""
     },
     "metadata": {},
     "execution_count": 8
    }
   ],
   "source": [
    "def knights(saying):\n",
    "    def inner(quote):\n",
    "        return \"we are the knights who say: '%s'\" % quote\n",
    "    return inner(saying)\n",
    "knights('Ni!')"
   ]
  },
  {
   "cell_type": "code",
   "execution_count": 11,
   "metadata": {},
   "outputs": [
    {
     "output_type": "execute_result",
     "data": {
      "text/plain": "(function, function)"
     },
     "metadata": {},
     "execution_count": 11
    }
   ],
   "source": [
    "def make_circle_area_func(pi=3.14):\n",
    "    '''円の面積を計算する関数を作る'''\n",
    "    def circle_area(radius):\n",
    "        '''円の面積を計算する'''\n",
    "        return radius *radius*pi\n",
    "    return circle_area\n",
    "#pi が初期設定(3.14)　の時\n",
    "circle_area_default = make_circle_area_func()\n",
    "#pi が 3.1415926535の時\n",
    "circle_area_precise = make_circle_area_func(pi = 3.1415926535)\n",
    "type(circle_area_default),type(circle_area_precise) \n"
   ]
  },
  {
   "cell_type": "code",
   "execution_count": 12,
   "metadata": {
    "tags": []
   },
   "outputs": [
    {
     "output_type": "stream",
     "name": "stdout",
     "text": "12.56\n12.566370614\n"
    }
   ],
   "source": [
    "#半径2の円の面積、pi の精度が異なる\n",
    "print(circle_area_default(2))\n",
    "print(circle_area_precise(2))"
   ]
  },
  {
   "cell_type": "code",
   "execution_count": 13,
   "metadata": {
    "tags": []
   },
   "outputs": [
    {
     "output_type": "stream",
     "name": "stdout",
     "text": "1\n2\n3\n"
    }
   ],
   "source": [
    "def makecounter():\n",
    "    '''呼ばれるたびにカウンタを１ずつ増やすカウンタ関数を生成する'''\n",
    "    n = 0\n",
    "    def count():\n",
    "        nonlocal n\n",
    "        n += 1\n",
    "        return n\n",
    "    return count\n",
    "counter = makecounter()\n",
    "print(counter())\n",
    "print(counter())\n",
    "print(counter())"
   ]
  },
  {
   "cell_type": "code",
   "execution_count": 15,
   "metadata": {
    "tags": []
   },
   "outputs": [
    {
     "output_type": "stream",
     "name": "stdout",
     "text": "====flag: Red\nselection is 0 which may be the default\n====\n====flag blue\nyour choice is 1\n====\n"
    }
   ],
   "source": [
    "def show_message(num=0):\n",
    "    '''入力に応じて違うメッセージを表示する\n",
    "    入力: 0 or それ以外'''\n",
    "    if num ==0:\n",
    "        flag = 'Red'\n",
    "        print('====flag:',flag)\n",
    "        print('selection is', num, 'which may be the default')\n",
    "        print('====')\n",
    "    else:\n",
    "\n",
    "        flag='blue'\n",
    "        print('====flag',flag)\n",
    "        print('your choice is', num)\n",
    "        print('====')\n",
    "\n",
    "show_message(0)\n",
    "show_message(1)"
   ]
  },
  {
   "cell_type": "code",
   "execution_count": 18,
   "metadata": {},
   "outputs": [],
   "source": [
    "def show_message(num=0):\n",
    "    '''入力に応じて違うメッセージを表示する\n",
    "    入力: 0 or それ以外'''\n",
    "\n",
    "    def decolate(func):\n",
    "        if num == 0:\n",
    "            flag= 'red'\n",
    "        else:\n",
    "            flag = 'Blue'\n",
    "        print('====flag:', flag)\n",
    "        func()\n",
    "        print('====')\n",
    "\n",
    "    def show_selection(num=num):\n",
    "        func()\n",
    "        print('====')\n",
    "    def show_selection(num=num):\n",
    "        if num == 0:\n",
    "            print('selection is', num, 'which may be the default')\n",
    "        else:\n",
    "            print('your choice is', num)\n",
    "        decolate(show_selection)\n",
    "show_message(0)\n",
    "show_message(1)\n",
    "    "
   ]
  },
  {
   "cell_type": "code",
   "execution_count": null,
   "metadata": {},
   "outputs": [],
   "source": [
    "def make__addfunc():\n",
    "    def add(x,y):\n",
    "        return x + y\n",
    "    return add"
   ]
  },
  {
   "cell_type": "code",
   "execution_count": 19,
   "metadata": {},
   "outputs": [
    {
     "output_type": "error",
     "ename": "NameError",
     "evalue": "name 'make__addfunc' is not defined",
     "traceback": [
      "\u001b[1;31m---------------------------------------------------------------------------\u001b[0m",
      "\u001b[1;31mNameError\u001b[0m                                 Traceback (most recent call last)",
      "\u001b[1;32m<ipython-input-19-b83f6ddc028d>\u001b[0m in \u001b[0;36m<module>\u001b[1;34m\u001b[0m\n\u001b[1;32m----> 1\u001b[1;33m \u001b[0madder\u001b[0m \u001b[1;33m=\u001b[0m \u001b[0mmake__addfunc\u001b[0m\u001b[1;33m(\u001b[0m\u001b[1;33m)\u001b[0m\u001b[1;33m\u001b[0m\u001b[1;33m\u001b[0m\u001b[0m\n\u001b[0m\u001b[0;32m      2\u001b[0m \u001b[0manswer\u001b[0m \u001b[1;33m=\u001b[0m \u001b[0madder\u001b[0m\u001b[1;33m(\u001b[0m\u001b[1;36m1\u001b[0m\u001b[1;33m,\u001b[0m\u001b[1;36m10\u001b[0m\u001b[1;33m)\u001b[0m\u001b[1;33m\u001b[0m\u001b[1;33m\u001b[0m\u001b[0m\n\u001b[0;32m      3\u001b[0m \u001b[0mprint\u001b[0m\u001b[1;33m(\u001b[0m\u001b[0manswer\u001b[0m\u001b[1;33m)\u001b[0m\u001b[1;33m\u001b[0m\u001b[1;33m\u001b[0m\u001b[0m\n",
      "\u001b[1;31mNameError\u001b[0m: name 'make__addfunc' is not defined"
     ]
    }
   ],
   "source": [
    "adder = make__addfunc()\n",
    "answer = adder(1,10)\n",
    "print(answer)"
   ]
  },
  {
   "cell_type": "code",
   "execution_count": 22,
   "metadata": {},
   "outputs": [],
   "source": [
    "def make_addfunc():\n",
    "    print('足し算する関数を作成')\n",
    "    def add(x,y):\n",
    "        print('{} + {} = {}'.format(x,y,x+y))\n",
    "        return x +y\n",
    "    return add\n",
    "    adder = make_addfunc()\n"
   ]
  },
  {
   "cell_type": "code",
   "execution_count": null,
   "metadata": {},
   "outputs": [],
   "source": []
  },
  {
   "cell_type": "code",
   "execution_count": null,
   "metadata": {},
   "outputs": [],
   "source": []
  }
 ]
}