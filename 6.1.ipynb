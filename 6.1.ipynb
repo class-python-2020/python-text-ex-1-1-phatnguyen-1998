{
 "metadata": {
  "language_info": {
   "codemirror_mode": {
    "name": "ipython",
    "version": 3
   },
   "file_extension": ".py",
   "mimetype": "text/x-python",
   "name": "python",
   "nbconvert_exporter": "python",
   "pygments_lexer": "ipython3",
   "version": 3
  },
  "orig_nbformat": 2,
  "kernelspec": {
   "name": "python_defaultSpec_1597997602793",
   "display_name": "Python 3.8.2 32-bit"
  }
 },
 "nbformat": 4,
 "nbformat_minor": 2,
 "cells": [
  {
   "cell_type": "code",
   "execution_count": 2,
   "metadata": {},
   "outputs": [
    {
     "output_type": "execute_result",
     "data": {
      "text/plain": "__main__.Car"
     },
     "metadata": {},
     "execution_count": 2
    }
   ],
   "source": [
    "class Car:\n",
    "    pass\n",
    "my_car = Car()\n",
    "type(my_car)"
   ]
  },
  {
   "cell_type": "code",
   "execution_count": 4,
   "metadata": {},
   "outputs": [
    {
     "output_type": "execute_result",
     "data": {
      "text/plain": "4"
     },
     "metadata": {},
     "execution_count": 4
    }
   ],
   "source": [
    "class Car:\n",
    "    num_wheels = 4\n",
    "my_car = Car()\n",
    "my_car.num_wheels"
   ]
  },
  {
   "cell_type": "code",
   "execution_count": 5,
   "metadata": {},
   "outputs": [
    {
     "output_type": "execute_result",
     "data": {
      "text/plain": "1000.0"
     },
     "metadata": {},
     "execution_count": 5
    }
   ],
   "source": [
    "class Car:\n",
    "    weight = 4000\n",
    "    num_wheels = 4\n",
    "    def calc_weight_per_wheel(self):\n",
    "        return 1000.0\n",
    "my_car = Car()\n",
    "my_car.calc_weight_per_wheel()"
   ]
  },
  {
   "cell_type": "code",
   "execution_count": 6,
   "metadata": {},
   "outputs": [
    {
     "output_type": "execute_result",
     "data": {
      "text/plain": "1000.0"
     },
     "metadata": {},
     "execution_count": 6
    }
   ],
   "source": [
    "class Car:\n",
    "    weight = 4000\n",
    "    num_wheels = 4\n",
    "    def calc_weight_per_wheel(self):\n",
    "        return self.weight/self.num_wheels\n",
    "my_car = Car()\n",
    "my_car.calc_weight_per_wheel()"
   ]
  },
  {
   "cell_type": "code",
   "execution_count": 7,
   "metadata": {},
   "outputs": [
    {
     "output_type": "execute_result",
     "data": {
      "text/plain": "'Noname'"
     },
     "metadata": {},
     "execution_count": 7
    }
   ],
   "source": [
    "class Car:\n",
    "    weight = 4000\n",
    "    num_wheels = 4\n",
    "    def __init__(self,car_name='Noname'):\n",
    "        self.name= car_name\n",
    "    def calc_weight_per_wheel(self):\n",
    "        return self.weight/ self.num_wheels\n",
    "default_car = Car()\n",
    "default_car.name"
   ]
  },
  {
   "cell_type": "code",
   "execution_count": 8,
   "metadata": {},
   "outputs": [
    {
     "output_type": "execute_result",
     "data": {
      "text/plain": "'Delorean'"
     },
     "metadata": {},
     "execution_count": 8
    }
   ],
   "source": [
    "my_car = Car('Delorean')\n",
    "my_car.name"
   ]
  },
  {
   "cell_type": "code",
   "execution_count": 11,
   "metadata": {},
   "outputs": [
    {
     "output_type": "execute_result",
     "data": {
      "text/plain": "'鳴き声: ニャー,足の数:4,動物: True'"
     },
     "metadata": {},
     "execution_count": 11
    }
   ],
   "source": [
    "class Cat:\n",
    "    cry= \"ニャー\"\n",
    "    legs = 4\n",
    "    is_animal = True\n",
    "tama = Cat()\n",
    "\"鳴き声: {},足の数:{},動物: {}\".format(tama.cry,tama.legs,tama.is_animal)"
   ]
  },
  {
   "cell_type": "code",
   "execution_count": 12,
   "metadata": {
    "tags": []
   },
   "outputs": [
    {
     "output_type": "stream",
     "name": "stdout",
     "text": "名前: かぐや姫\n国籍: 日本\n生まれた年: 685\n住んでいるところ: 静岡県富士市\n"
    }
   ],
   "source": [
    "class person:\n",
    "    def __init__(self,nmae='',nationality='',birth='',address=''):\n",
    "        self.name = nmae\n",
    "        self.nationality = nationality\n",
    "        self.birth = birth\n",
    "        self.address = address\n",
    "    def show_attributes(self):\n",
    "        print('名前:',self.name)\n",
    "        print('国籍:', self.nationality)\n",
    "        print('生まれた年:',self.birth)\n",
    "        print('住んでいるところ:', self.address)\n",
    "heroine = person('かぐや姫','日本','685','静岡県富士市')\n",
    "heroine.show_attributes()\n"
   ]
  },
  {
   "cell_type": "code",
   "execution_count": 13,
   "metadata": {
    "tags": []
   },
   "outputs": [
    {
     "output_type": "stream",
     "name": "stdout",
     "text": "名前: 金太郎\n国籍: 日本\n生まれた年: 956\n住んでいるところ: 静岡県盛岡市\n"
    }
   ],
   "source": [
    "hero = person('金太郎','日本','956','静岡県盛岡市')\n",
    "hero.show_attributes()"
   ]
  }
 ]
}