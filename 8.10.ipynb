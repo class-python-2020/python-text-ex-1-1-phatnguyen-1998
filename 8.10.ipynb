{
 "metadata": {
  "language_info": {
   "codemirror_mode": {
    "name": "ipython",
    "version": 3
   },
   "file_extension": ".py",
   "mimetype": "text/x-python",
   "name": "python",
   "nbconvert_exporter": "python",
   "pygments_lexer": "ipython3",
   "version": "3.8.2-final"
  },
  "orig_nbformat": 2,
  "kernelspec": {
   "name": "python_defaultSpec_1598196579607",
   "display_name": "Python 3.8.2 32-bit"
  }
 },
 "nbformat": 4,
 "nbformat_minor": 2,
 "cells": [
  {
   "cell_type": "code",
   "execution_count": 1,
   "metadata": {
    "tags": []
   },
   "outputs": [
    {
     "output_type": "stream",
     "name": "stderr",
     "text": "WARNING:root:warning level message\nERROR:root:error level message\nCRITICAL:root:critical level message\n"
    }
   ],
   "source": [
    "import logging\n",
    "logging.debug('debug level message')\n",
    "logging.info('info level message')\n",
    "logging.warning('warning level message')\n",
    "logging.error('error level message')\n",
    "logging.critical('critical level message')"
   ]
  },
  {
   "cell_type": "code",
   "execution_count": null,
   "metadata": {},
   "outputs": [],
   "source": [
    "import logging\n",
    "logging.basicConfig(filename='test1.log', level= logging.DEBUG)\n",
    "logging.debug('logfile open')\n",
    "logging.info('test info output')\n",
    "logging.warning('test warning output')\n",
    "DEBUG: root:logfile open\n",
    "INFO: root:test info output\n",
    "Warning: root: test warning output"
   ]
  },
  {
   "cell_type": "code",
   "execution_count": null,
   "metadata": {},
   "outputs": [],
   "source": [
    "import logging\n",
    "logging.basicConfig(filename='test1.log', level= logging.WARNING)\n",
    "logging.debug('logfile open : level = warning')\n",
    "logging.info('test info output : level = warning')\n",
    "logging.warning('test warning output : level = warning')\n",
    "WARNING:root:test warining output : level = warining\n",
    "\n",
    "\n",
    "\n"
   ]
  },
  {
   "cell_type": "code",
   "execution_count": null,
   "metadata": {},
   "outputs": [],
   "source": [
    "import logging\n",
    "logging.basicConfig(filename='test1.log', level= logging.WARNING,format='%(levelname)s:%(asctime)s:%(message)s')\n",
    "logging.warning('test warning format output')\n",
    "WARNING: 2019-05-06 22:36:42,452:test warning format output"
   ]
  },
  {
   "cell_type": "code",
   "execution_count": null,
   "metadata": {},
   "outputs": [],
   "source": [
    "import logging\n",
    "omport myprocess\n",
    "def main():\n",
    "    logging.basicConfig(filename='test2.log', level= logging.INFO)\n",
    "    logging.info('main.py call myprocess1 function')\n",
    "    myprocess.process1()\n",
    "    logging.info('main.py main function exit')\n",
    "if __name__=='__main__':\n",
    "    main()\n",
    "import logging\n",
    "def process1():\n",
    "    logging.info('myprocess.py process1 start')\n",
    "INFO: root:main.py call myprocess1 finction\n",
    "INFO: root:myprocess.py process1 start\n",
    "INFO: root:main.py main function exit\n"
   ]
  },
  {
   "cell_type": "code",
   "execution_count": null,
   "metadata": {},
   "outputs": [],
   "source": [
    "import logging\n",
    "logging.basicConfig(filename='test3.log', level= logging.WARNING)\n",
    "test_data = [1,3,6]\n",
    "try:\n",
    "    raise Exception\n",
    "except:\n",
    "    logging.exception('test exception message :%s', test_data)\n"
   ]
  },
  {
   "cell_type": "code",
   "execution_count": null,
   "metadata": {},
   "outputs": [],
   "source": [
    "ERROR:root:test exception message:[1,3,6]\n",
    "Tracenack(most recent call last):\n",
    "file\"<ipython-input-1-34a116fcf5db>\",line 5,in<module>\n",
    "Exception"
   ]
  },
  {
   "cell_type": "code",
   "execution_count": null,
   "metadata": {},
   "outputs": [],
   "source": []
  },
  {
   "cell_type": "code",
   "execution_count": null,
   "metadata": {},
   "outputs": [],
   "source": []
  }
 ]
}