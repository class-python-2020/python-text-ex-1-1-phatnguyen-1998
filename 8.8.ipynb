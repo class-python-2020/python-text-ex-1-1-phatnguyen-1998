{
 "metadata": {
  "language_info": {
   "codemirror_mode": {
    "name": "ipython",
    "version": 3
   },
   "file_extension": ".py",
   "mimetype": "text/x-python",
   "name": "python",
   "nbconvert_exporter": "python",
   "pygments_lexer": "ipython3",
   "version": "3.8.2-final"
  },
  "orig_nbformat": 2,
  "kernelspec": {
   "name": "python_defaultSpec_1598193944588",
   "display_name": "Python 3.8.2 32-bit"
  }
 },
 "nbformat": 4,
 "nbformat_minor": 2,
 "cells": [
  {
   "cell_type": "code",
   "execution_count": null,
   "metadata": {},
   "outputs": [],
   "source": [
    "import sqlite3\n",
    "db = 'sample.db'\n",
    "con = sqlite3.connect(db)\n",
    "csr = con.cursor()\n",
    "sql = 'create table Employee(name,email,department,position);'\n",
    "csr.execute(sql)\n",
    "con.commit()\n",
    "con.close()"
   ]
  },
  {
   "cell_type": "code",
   "execution_count": null,
   "metadata": {},
   "outputs": [],
   "source": [
    "import sqlite3\n",
    "db = 'sample.db'\n",
    "con = sqlite3.connect(db)\n",
    "csr = con.cursor()\n",
    "sql = 'insert into employee(name,email,department,position) \\ Values('Yamada','yamada@abcxyz.co.jp','sales','staff');'\n",
    "csr.execute(sql)\n",
    "sql = 'delete from employee where name = 'Yamada';'\n",
    "csr.execute(sql)\n",
    "sql = 'select * from employee;'\n",
    "csr.execute(sql)\n",
    "print(csr.fetchall())\n",
    "sql = 'update employee set position = 'Manager' where name = 'suzuki';'csr.execute(sql)\n",
    "con.commit()\n",
    "sql = 'select * from employee;'\n",
    "csr.execute(sql)\n",
    "print(csr.fetchall)\n",
    "con.close"
   ]
  },
  {
   "cell_type": "code",
   "execution_count": null,
   "metadata": {},
   "outputs": [],
   "source": [
    "csr.excute('drop table data_set')\n",
    "con.commit()"
   ]
  },
  {
   "cell_type": "code",
   "execution_count": 1,
   "metadata": {},
   "outputs": [
    {
     "output_type": "error",
     "ename": "SyntaxError",
     "evalue": "invalid syntax (<ipython-input-1-82a2777551fe>, line 6)",
     "traceback": [
      "\u001b[1;36m  File \u001b[1;32m\"<ipython-input-1-82a2777551fe>\"\u001b[1;36m, line \u001b[1;32m6\u001b[0m\n\u001b[1;33m    csr.execute(\"insert into human(name) values('ichiro');\")\u001b[0m\n\u001b[1;37m    ^\u001b[0m\n\u001b[1;31mSyntaxError\u001b[0m\u001b[1;31m:\u001b[0m invalid syntax\n"
     ]
    }
   ],
   "source": [
    "import sqlite3\n",
    "db ='test.db'\n",
    "con = sqlite3.connect(db)\n",
    "csr = con.cursor()\n",
    "csr.execute(\"create table human(name,nickname);\"\n",
    "csr.execute(\"insert into human(name) values('ichiro');\")\n",
    "csr.execute(\"insert into human(name) values('jiro');\")\n",
    "csr.execute(\"insert into human(name) values('saburo');\")\n",
    "csr.execute(\"update human set nickname = 'lazer' where name = 'ichiro';\")\n",
    "csr.execute(\"select * from human;\")\n",
    "print(csr.fetchall())\n",
    "con.commit()\n",
    "con.close()"
   ]
  },
  {
   "cell_type": "code",
   "execution_count": null,
   "metadata": {},
   "outputs": [],
   "source": [
    "import sqlite3\n",
    "db = 'test.db'\n",
    "con = sqlite3.connect(db)\n",
    "csr = con.cursor()\n",
    "csr.execute(\"create table human(name,nickname);\")\n",
    "csr.execute(\"insert into human(name) values('ichiro');\")\n",
    "csr.execute(\"insert into human(name) values('jiro');\")\n",
    "csr.execute(\"insert into human(name) values('saburo');\")\n",
    "csr.execute(\"update human set nickname = 'lazer' where name = 'ichiro';\")\n",
    "csr.execute(\"select * from human;\")\n",
    "print(csr.fetchall)\n",
    "con.commit()\n",
    "con.close"
   ]
  },
  {
   "cell_type": "code",
   "execution_count": null,
   "metadata": {},
   "outputs": [],
   "source": []
  },
  {
   "cell_type": "code",
   "execution_count": null,
   "metadata": {},
   "outputs": [],
   "source": []
  },
  {
   "cell_type": "code",
   "execution_count": null,
   "metadata": {},
   "outputs": [],
   "source": []
  },
  {
   "cell_type": "code",
   "execution_count": null,
   "metadata": {},
   "outputs": [],
   "source": []
  },
  {
   "cell_type": "code",
   "execution_count": null,
   "metadata": {},
   "outputs": [],
   "source": []
  }
 ]
}